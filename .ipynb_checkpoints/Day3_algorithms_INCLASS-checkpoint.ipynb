{
 "cells": [
  {
   "cell_type": "markdown",
   "metadata": {},
   "source": [
    "# Algorithms, Binary Search & Linked Lists"
   ]
  },
  {
   "cell_type": "markdown",
   "metadata": {},
   "source": [
    "## Tasks Today:\n",
    " \n",
    "1) <b>In-Place Algorithms</b> <br>\n",
    " &nbsp;&nbsp;&nbsp;&nbsp; a) Syntax <br>\n",
    " &nbsp;&nbsp;&nbsp;&nbsp; a) Out of Place Algorithm <br>\n",
    " &nbsp;&nbsp;&nbsp;&nbsp; b) In-Class Exercise #1 <br>\n",
    "2) <b>Two Pointers</b> <br>\n",
    "3) <b>Linked Lists</b> <br>\n",
    "4) <b>Merge Sort</b> <br>\n",
    " &nbsp;&nbsp;&nbsp;&nbsp; a) Video on Algorithms <br>\n",
    " &nbsp;&nbsp;&nbsp;&nbsp; b) How it Works <br>\n",
    "5) <b>Exercises</b> <br>\n",
    " &nbsp;&nbsp;&nbsp;&nbsp; a) Exercise #1 - Reverse a List in Place Using an In-Place Algorithm <br>\n",
    " &nbsp;&nbsp;&nbsp;&nbsp; b) Exercise #2 - Find Distinct Words <br>\n",
    " &nbsp;&nbsp;&nbsp;&nbsp; c) Exercise #3 - Write a program to implement a Linear Search Algorithm. <br>"
   ]
  },
  {
   "cell_type": "markdown",
   "metadata": {},
   "source": [
    "## In-Place Algorithms"
   ]
  },
  {
   "cell_type": "markdown",
   "metadata": {},
   "source": [
    "#### Syntax"
   ]
  },
  {
   "cell_type": "code",
   "execution_count": 6,
   "metadata": {},
   "outputs": [
    {
     "name": "stdout",
     "output_type": "stream",
     "text": [
      "before swap: [1, 5, 10, 15, 20, 25]\n",
      "after swap: [1, 5, 10, 25, 20, 15]\n",
      "output: None\n"
     ]
    }
   ],
   "source": [
    "def swap(nums, i1, i2):\n",
    "    nums[i1], nums[i2] = nums[i2], nums[i1]\n",
    "#     temp = nums[i1]\n",
    "#     nums[i1] = nums[i2]\n",
    "#     nums[i2] = temp\n",
    "    return None\n",
    "\n",
    "list1 = [1,5,10,15,20,25]\n",
    "\n",
    "print('before swap:', list1)\n",
    "output = swap(list1, 3, 5)\n",
    "print('after swap:', list1)\n",
    "print('output:', output)"
   ]
  },
  {
   "cell_type": "markdown",
   "metadata": {},
   "source": [
    "#### Out of Place Algorithm"
   ]
  },
  {
   "cell_type": "code",
   "execution_count": 7,
   "metadata": {},
   "outputs": [
    {
     "name": "stdout",
     "output_type": "stream",
     "text": [
      "before swap: [1, 5, 10, 15, 20, 25]\n",
      "after swap: [1, 5, 10, 15, 20, 25]\n",
      "output: [1, 5, 10, 25, 20, 15]\n"
     ]
    }
   ],
   "source": [
    "def swap(nums, i1, i2):\n",
    "    copy = nums[:]\n",
    "    copy[i1], copy[i2] = copy[i2], copy[i1]\n",
    "    return copy\n",
    "\n",
    "list1 = [1,5,10,15,20,25]\n",
    "\n",
    "print('before swap:', list1)\n",
    "output = swap(list1, 3, 5)\n",
    "print('after swap:', list1)\n",
    "print('output:', output)"
   ]
  },
  {
   "cell_type": "markdown",
   "metadata": {},
   "source": [
    "#### In-Class Exercise #1 <br>\n",
    "<p>Write a function that takes in four arguments (list, index1, index2, index3), and swaps those three positions in the list passed in.</p>"
   ]
  },
  {
   "cell_type": "code",
   "execution_count": null,
   "metadata": {},
   "outputs": [],
   "source": [
    "l_1 = [10, 4, 3, 8, 4, 2, 6]\n",
    "\n",
    "def swap3(nums, i1, i2, i3):\n",
    "    copy = nums[:]\n",
    "    copy[i1], copy[i2], copy[i3] = copy[i3], copy[i1], copy[i2]\n",
    "    return copy\n",
    "print('Original list:', l_1)\n",
    "swap3(l_1, 0,1,2)\n"
   ]
  },
  {
   "cell_type": "markdown",
   "metadata": {},
   "source": [
    "## Two Pointers"
   ]
  },
  {
   "cell_type": "markdown",
   "metadata": {},
   "source": [
    "#### Syntax"
   ]
  },
  {
   "cell_type": "code",
   "execution_count": 70,
   "metadata": {},
   "outputs": [
    {
     "name": "stdout",
     "output_type": "stream",
     "text": [
      "[9, 8, 7, 6, 5, 4, 3, 2, 1]\n"
     ]
    }
   ],
   "source": [
    "def twoPointers(nums):\n",
    "    l = 0\n",
    "    r = len(nums)-1\n",
    "    while l < r:\n",
    "        nums[l], nums[r] = nums[r], nums[l]\n",
    "        l += 1\n",
    "        r -= 1\n",
    "    return None\n",
    "\n",
    "li2 = [1,2,3,4,5,6,7,8,9]\n",
    "twoPointers(li2)\n",
    "\n",
    "print(li2)"
   ]
  },
  {
   "cell_type": "markdown",
   "metadata": {},
   "source": [
    "#### Video of Algorithms <br>\n",
    "<p>Watch the video about algorithms.</p>\n",
    "\n",
    "https://www.youtube.com/watch?v=Q9HjeFD62Uk\n",
    "\n",
    "https://www.youtube.com/watch?v=kPRA0W1kECg\n",
    "\n",
    "https://www.youtube.com/watch?v=ZZuD6iUe3Pc"
   ]
  },
  {
   "cell_type": "markdown",
   "metadata": {},
   "source": [
    "# Sorting Algorithms"
   ]
  },
  {
   "cell_type": "markdown",
   "metadata": {},
   "source": [
    "#### Bubble Sort\n",
    "\n",
    "Worst Case: O(n^2) Time - O(1) Space"
   ]
  },
  {
   "cell_type": "code",
   "execution_count": 35,
   "metadata": {},
   "outputs": [
    {
     "name": "stdout",
     "output_type": "stream",
     "text": [
      "12\n",
      "[3, 5, 12, 17, 22, 30, 59, 78, 90, 444, 5674, 9999, 661432343]\n",
      "1\n",
      "[1, 2, 3, 4, 5, 6, 7, 8, 9, 10]\n"
     ]
    }
   ],
   "source": [
    "def swap(nums, i1, i2):\n",
    "    nums[i1], nums[i2] = nums[i2], nums[i1]\n",
    "\n",
    "def bubbleSort(nums):\n",
    "    isSorted = False\n",
    "    count = 0\n",
    "    while not isSorted:\n",
    "        isSorted = True\n",
    "        for i in range(len(nums)-1-count):\n",
    "            if nums[i] > nums[i+1]:\n",
    "                swap(nums, i, i+1)\n",
    "                isSorted = False\n",
    "        count += 1\n",
    "    print(count)\n",
    "    \n",
    "nums = [12,444,5674,78,661432343,3,22,9999,17,59,30,90,5]\n",
    "nums2 = [1,2,3,4,5,6,7,8,9,10]\n",
    "\n",
    "bubbleSort(nums)\n",
    "print(nums)\n",
    "\n",
    "bubbleSort(nums2)\n",
    "print(nums2)"
   ]
  },
  {
   "cell_type": "markdown",
   "metadata": {},
   "source": [
    "##### Insertion Sort\n",
    "\n",
    "Worst Case: O(n^2) time - O(1)space"
   ]
  },
  {
   "cell_type": "code",
   "execution_count": 36,
   "metadata": {},
   "outputs": [
    {
     "name": "stdout",
     "output_type": "stream",
     "text": [
      "None\n",
      "None\n",
      "None\n"
     ]
    }
   ],
   "source": [
    "def insertionSort(nums):\n",
    "    for i in range(1, len(nums)):\n",
    "        j = i\n",
    "        while j > 0 and nums[j] < nums[j-1]:\n",
    "            swap(nums, j, j-1)\n",
    "            j -= 1\n",
    "\n",
    "nums = [12,444,5674,78,661432343,3,22,9999,17,59,30,90,5]\n",
    "nums2 = [1,2,3,4,5,6,7,8,9,10]\n",
    "names = ['shoha', 'brandt', 'aubrey']\n",
    "\n",
    "insertionSort(nums)\n",
    "insertionSort(nums2)\n",
    "insertionSort(names)\n",
    "print(insertionSort(nums))\n",
    "print(insertionSort(nums2))\n",
    "print(insertionSort(names))"
   ]
  },
  {
   "cell_type": "markdown",
   "metadata": {},
   "source": [
    "## Merge Sort"
   ]
  },
  {
   "cell_type": "markdown",
   "metadata": {},
   "source": [
    "#### How it Works"
   ]
  },
  {
   "cell_type": "code",
   "execution_count": 79,
   "metadata": {},
   "outputs": [
    {
     "name": "stdout",
     "output_type": "stream",
     "text": [
      "splitting.. [3, 2, 56, 3, 33, 22, 53, 22, 32, 56, 99, 88, 32, 21]\n",
      "splitting.. [3, 2, 56, 3, 33, 22, 53]\n",
      "splitting.. [3, 2, 56]\n",
      "splitting.. [2, 56]\n",
      "merging.. [2, 56]\n",
      "merging.. [2, 3, 56]\n",
      "splitting.. [3, 33, 22, 53]\n",
      "splitting.. [3, 33]\n",
      "merging.. [3, 33]\n",
      "splitting.. [22, 53]\n",
      "merging.. [22, 53]\n",
      "merging.. [3, 22, 33, 53]\n",
      "merging.. [2, 3, 3, 22, 33, 53, 56]\n",
      "splitting.. [22, 32, 56, 99, 88, 32, 21]\n",
      "splitting.. [22, 32, 56]\n",
      "splitting.. [32, 56]\n",
      "merging.. [32, 56]\n",
      "merging.. [22, 32, 56]\n",
      "splitting.. [99, 88, 32, 21]\n",
      "splitting.. [99, 88]\n",
      "merging.. [88, 99]\n",
      "splitting.. [32, 21]\n",
      "merging.. [21, 32]\n",
      "merging.. [21, 32, 88, 99]\n",
      "merging.. [21, 22, 32, 32, 56, 88, 99]\n",
      "merging.. [2, 3, 3, 21, 22, 22, 32, 32, 33, 53, 56, 56, 88, 99]\n",
      "[2, 3, 3, 21, 22, 22, 32, 32, 33, 53, 56, 56, 88, 99]\n"
     ]
    }
   ],
   "source": [
    "def mergeSort(nums):\n",
    "    if len(nums) > 1:\n",
    "        #splitting\n",
    "        print('splitting..', nums)\n",
    "        mid = len(nums)//2\n",
    "        lefthalf = nums[:mid]\n",
    "        righthalf = nums[mid:]\n",
    "        \n",
    "        # recursively call mergeSort to perform splits if needed\n",
    "        mergeSort(lefthalf)\n",
    "        mergeSort(righthalf)\n",
    "        \n",
    "        # create index pointers\n",
    "        i,j,k = 0,0,0\n",
    "        \n",
    "        # compare left and right halves\n",
    "        while i < len(lefthalf) and j < len(righthalf):\n",
    "            if lefthalf[i] < righthalf[j]:\n",
    "                nums[k] = lefthalf[i]\n",
    "                i += 1\n",
    "            else:\n",
    "                nums[k] = righthalf[j]\n",
    "                j += 1\n",
    "            k += 1\n",
    "            \n",
    "        # when one side is done, fill in the rest into the correct position\n",
    "        while i < len(lefthalf):\n",
    "            nums[k] = lefthalf[i]\n",
    "            i += 1\n",
    "            k += 1\n",
    "        while j < len(righthalf):\n",
    "            nums[k] = righthalf[j]\n",
    "            j += 1\n",
    "            k += 1\n",
    "        print('merging..', nums)\n",
    "nums = [3,2,56,3,33,22,53,22,32,56,99,88,32,21]\n",
    "mergeSort(nums)\n",
    "print(nums)"
   ]
  },
  {
   "cell_type": "markdown",
   "metadata": {},
   "source": [
    "# Binary Search\n",
    "\n",
    "The Binary Search algorithm works by finding the number in the middle of a given array and comparing it to the target. Given that the array is sorted\n",
    "\n",
    "* The worst case run time for this algorithm is `O(log(n))`"
   ]
  },
  {
   "cell_type": "code",
   "execution_count": 82,
   "metadata": {},
   "outputs": [
    {
     "data": {
      "text/plain": [
       "'I found your match at index 3'"
      ]
     },
     "execution_count": 82,
     "metadata": {},
     "output_type": "execute_result"
    }
   ],
   "source": [
    "nums = [1,22,44,55,66,77,88,89,90,91,92,93,100,101,103,104,200]\n",
    "def binarySearch(nums, target):\n",
    "    l = 0\n",
    "    r = len(nums)-1\n",
    "    while l <= r:\n",
    "        m = (l + r)//2\n",
    "        potentialMatch = nums[m]\n",
    "        if target == potentialMatch:\n",
    "            return f'I found your match at index {m}'\n",
    "        elif target < potentialMatch:\n",
    "            r = m - 1\n",
    "        else:\n",
    "            l = m\n",
    "    return f'What you are looking for is not in this collection.'\n",
    "\n",
    "binarySearch(nums, 55)"
   ]
  },
  {
   "cell_type": "markdown",
   "metadata": {},
   "source": [
    "# Exercises"
   ]
  },
  {
   "cell_type": "markdown",
   "metadata": {},
   "source": [
    "### Exercise #1 <br>\n",
    "<p>Reverse the list below in-place using an in-place algorithm.<br>For extra credit: Reverse the strings at the same time.</p>"
   ]
  },
  {
   "cell_type": "code",
   "execution_count": 78,
   "metadata": {},
   "outputs": [
    {
     "data": {
      "text/plain": [
       "['.', 'ecnetnes', 'a', 'si', 'siht']"
      ]
     },
     "execution_count": 78,
     "metadata": {},
     "output_type": "execute_result"
    }
   ],
   "source": [
    "# def swap(nums, i1, i2):\n",
    "#     nums[i1], nums[i2] = nums[i2], nums[i1]\n",
    "# #     temp = nums[i1]\n",
    "# #     nums[i1] = nums[i2]\n",
    "# #     nums[i2] = temp\n",
    "#     return None\n",
    "\n",
    "# list1 = [1,5,10,15,20,25]\n",
    "\n",
    "# print('before swap:', list1)\n",
    "# output = swap(list1, 3, 5)\n",
    "# print('after swap:', list1)\n",
    "# print('output:', output)\n",
    "\n",
    "\n",
    "words = ['this' , 'is', 'a', 'sentence', '.']\n",
    "\n",
    "def reverse(words):\n",
    "    words[0], words[1], words[2], words[3], words[4] = words[4][::-1], words[3][::-1], words[2][::-1], words[1][::-1], words[0][::-1]\n",
    "    return words\n",
    "reverse(words)"
   ]
  },
  {
   "cell_type": "markdown",
   "metadata": {},
   "source": [
    "### Exercise #2 <br>\n",
    "<p>Create a function that counts how many distinct words are in the string below, then outputs a dictionary with the words as the key and the value as the amount of times that word appears in the string.<br>Should output:<br>{'a': 5,<br>\n",
    " 'abstract': 1,<br>\n",
    " 'an': 3,<br>\n",
    " 'array': 2, ... etc...</p>"
   ]
  },
  {
   "cell_type": "code",
   "execution_count": 106,
   "metadata": {
    "scrolled": true
   },
   "outputs": [
    {
     "data": {
      "text/plain": [
       "{'In': 1,\n",
       " 'computing': 1,\n",
       " 'a': 4,\n",
       " 'hash': 4,\n",
       " 'table': 2,\n",
       " 'map': 2,\n",
       " 'is': 1,\n",
       " 'data': 2,\n",
       " 'structure': 2,\n",
       " 'which': 2,\n",
       " 'implements': 1,\n",
       " 'an': 3,\n",
       " 'associative': 1,\n",
       " 'array': 2,\n",
       " 'abstract': 1,\n",
       " 'type': 1,\n",
       " 'that': 1,\n",
       " 'can': 2,\n",
       " 'keys': 1,\n",
       " 'to': 2,\n",
       " 'values': 1,\n",
       " 'A': 1,\n",
       " 'uses': 1,\n",
       " 'function': 1,\n",
       " 'compute': 1,\n",
       " 'index': 1,\n",
       " 'into': 1,\n",
       " 'of': 1,\n",
       " 'buckets': 1,\n",
       " 'or': 1,\n",
       " 'slots': 1,\n",
       " 'from': 1,\n",
       " 'the': 1,\n",
       " 'desired': 1,\n",
       " 'value': 1,\n",
       " 'be': 1,\n",
       " 'found': 1}"
      ]
     },
     "execution_count": 106,
     "metadata": {},
     "output_type": "execute_result"
    }
   ],
   "source": [
    "a_text = 'In computing, a hash table hash map is a data structure which implements an associative array abstract data type, a structure that can map keys to values. A hash table uses a hash function to compute an index into an array of buckets or slots from which the desired value can be found'\n",
    "\n",
    "import re\n",
    "\n",
    "def wordCount(string):\n",
    "    myDict = {}\n",
    "    pattern = re.compile(r'\\b[A-Za-z]+\\b')\n",
    "    words = re.findall(pattern, string)\n",
    "    \n",
    "    for word in words:\n",
    "        if word in myDict.keys():\n",
    "            myDict[word] += 1\n",
    "        else:\n",
    "            myDict[word] = 1\n",
    "            \n",
    "    return myDict\n",
    "\n",
    "wordCount(a_text)"
   ]
  },
  {
   "cell_type": "markdown",
   "metadata": {},
   "source": [
    "## Exercise #3\n",
    "\n",
    "Write a program to implement a Linear Search Algorithm. Also in a comment, write the Time Complexity of the following algorithm.\n",
    "\n",
    "#### Hint: Linear Searching will require searching a list for a given number. "
   ]
  },
  {
   "cell_type": "code",
   "execution_count": 136,
   "metadata": {},
   "outputs": [
    {
     "name": "stdout",
     "output_type": "stream",
     "text": [
      "8\n",
      "2\n",
      "No target found\n",
      "9\n"
     ]
    },
    {
     "data": {
      "text/plain": [
       "'No target found'"
      ]
     },
     "execution_count": 136,
     "metadata": {},
     "output_type": "execute_result"
    }
   ],
   "source": [
    "# def bubbleSort(nums):\n",
    "#     isSorted = False\n",
    "#     count = 0\n",
    "#     while not isSorted:\n",
    "#         isSorted = True\n",
    "#         for i in range(len(nums)-1-count):\n",
    "#             if nums[i] > nums[i+1]:\n",
    "#                 swap(nums, i, i+1)\n",
    "#                 isSorted = False\n",
    "#         count += 1\n",
    "#     print(count)\n",
    "\n",
    "# LinearSearch(array, key)\n",
    "#     for each element in the array\n",
    "#         if element == value\n",
    "#             return its index\n",
    "\n",
    "# Start from the leftmost element of arr[] and one by one compare x with each element of arr[]\n",
    "# If x matches with an element, return the index.\n",
    "# If x doesn’t match with any of the elements, return 'No target found'\n",
    "# Complexity is O(n)\n",
    "\n",
    "nums = [1,2,3,4,5,6,7,8,9,10]\n",
    "\n",
    "def linearSearch(numLi, target):\n",
    "    for num in range(len(nums)):\n",
    "        if nums[num] == target:\n",
    "            return target\n",
    "    return f'No target found'\n",
    "print(linearSearch(nums, 8))\n",
    "print(linearSearch(nums, 2))\n",
    "print(linearSearch(nums, 888888))\n",
    "print(linearSearch(nums, 9))\n",
    "linearSearch(nums, 12)"
   ]
  }
 ],
 "metadata": {
  "kernelspec": {
   "display_name": "Python 3 (ipykernel)",
   "language": "python",
   "name": "python3"
  },
  "language_info": {
   "codemirror_mode": {
    "name": "ipython",
    "version": 3
   },
   "file_extension": ".py",
   "mimetype": "text/x-python",
   "name": "python",
   "nbconvert_exporter": "python",
   "pygments_lexer": "ipython3",
   "version": "3.9.12"
  }
 },
 "nbformat": 4,
 "nbformat_minor": 2
}
